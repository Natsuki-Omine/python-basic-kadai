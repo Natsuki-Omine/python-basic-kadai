{
  "cells": [
    {
      "cell_type": "code",
      "execution_count": 1,
      "metadata": {
        "colab": {
          "base_uri": "https://localhost:8080/"
        },
        "id": "271ToKEEk8eu",
        "outputId": "695f7053-233f-4009-8333-8b98dff993b9"
      },
      "outputs": [
        {
          "name": "stdout",
          "output_type": "stream",
          "text": [
            "75.0㎠\n"
          ]
        }
      ],
      "source": [
        "top_side = 10\n",
        "bottom_side = 20\n",
        "height = 5\n",
        "\n",
        "trapezoid_area = (top_side + bottom_side) * height / 2\n",
        "print(str(trapezoid_area) + \"㎠\")"
      ]
    }
  ],
  "metadata": {
    "colab": {
      "provenance": []
    },
    "kernelspec": {
      "display_name": "Python 3",
      "name": "python3"
    },
    "language_info": {
      "name": "python",
      "version": "3.10.11"
    }
  },
  "nbformat": 4,
  "nbformat_minor": 0
}
