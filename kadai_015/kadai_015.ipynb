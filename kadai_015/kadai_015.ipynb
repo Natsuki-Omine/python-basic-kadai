{
  "nbformat": 4,
  "nbformat_minor": 0,
  "metadata": {
    "colab": {
      "provenance": []
    },
    "kernelspec": {
      "name": "python3",
      "display_name": "Python 3"
    },
    "language_info": {
      "name": "python"
    }
  },
  "cells": [
    {
      "cell_type": "code",
      "source": [
        "# パターン1\n",
        "class Human:\n",
        "    def __init__(self):\n",
        "        self.name = \"\"\n",
        "        self.age = \"\"\n",
        "\n",
        "    def set_info(self, name, age):\n",
        "        self.name = name\n",
        "        self.age = age\n",
        "\n",
        "    def printinfo(self):\n",
        "        print(self.name)\n",
        "        print(self.age)\n",
        "\n",
        "\n",
        "kadai = Human()\n",
        "\n",
        "kadai.set_info(\"Natsuki\", 24)\n",
        "kadai.printinfo()"
      ],
      "metadata": {
        "colab": {
          "base_uri": "https://localhost:8080/"
        },
        "id": "w_hqUyYcHc0F",
        "outputId": "7dffcce6-49b8-416f-d995-6c8aa9b61cd1"
      },
      "execution_count": 6,
      "outputs": [
        {
          "output_type": "stream",
          "name": "stdout",
          "text": [
            "Natsuki\n",
            "24\n"
          ]
        }
      ]
    },
    {
      "cell_type": "code",
      "execution_count": 5,
      "metadata": {
        "colab": {
          "base_uri": "https://localhost:8080/"
        },
        "id": "y6YF2idNFkAM",
        "outputId": "88538a9b-b355-4c2d-b627-a899c1313d59"
      },
      "outputs": [
        {
          "output_type": "stream",
          "name": "stdout",
          "text": [
            "Natsuki\n",
            "24\n"
          ]
        }
      ],
      "source": [
        "# パターン2(コンストラクタ使用)\n",
        "class Human:\n",
        "    def __init__(self, name, age):\n",
        "        self.name = name\n",
        "        self.age = age\n",
        "\n",
        "    def printinfo(self):\n",
        "        print(self.name)\n",
        "        print(self.age)\n",
        "\n",
        "\n",
        "kadai = Human(\"Natsuki\", 24)\n",
        "\n",
        "kadai.printinfo()"
      ]
    }
  ]
}