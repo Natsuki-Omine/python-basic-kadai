{
  "nbformat": 4,
  "nbformat_minor": 0,
  "metadata": {
    "colab": {
      "provenance": []
    },
    "kernelspec": {
      "name": "python3",
      "display_name": "Python 3"
    },
    "language_info": {
      "name": "python"
    }
  },
  "cells": [
    {
      "cell_type": "code",
      "execution_count": 5,
      "metadata": {
        "colab": {
          "base_uri": "https://localhost:8080/"
        },
        "id": "udm9goCSvKpv",
        "outputId": "e452e44b-d3da-430b-9c14-79453c9d679f"
      },
      "outputs": [
        {
          "output_type": "stream",
          "name": "stdout",
          "text": [
            "Fizz\n"
          ]
        }
      ],
      "source": [
        "var = 12\n",
        "\n",
        "if (var % 3 == 0 and var % 5 == 0):\n",
        "    print(\"FizzBuzz\")\n",
        "elif (var % 3 == 0):\n",
        "    print(\"Fizz\")\n",
        "elif (var % 5 == 0):\n",
        "    print(\"Buzz\")\n",
        "else:\n",
        "    print(var)"
      ]
    },
    {
      "cell_type": "code",
      "source": [
        "var = 90\n",
        "\n",
        "if (var % 3 == 0 and var % 5 == 0):\n",
        "    print(\"FizzBuzz\")\n",
        "elif (var % 3 == 0):\n",
        "    print(\"Fizz\")\n",
        "elif (var % 5 == 0):\n",
        "    print(\"Buzz\")\n",
        "else:\n",
        "    print(var)"
      ],
      "metadata": {
        "colab": {
          "base_uri": "https://localhost:8080/"
        },
        "id": "52wKYjlVv_1b",
        "outputId": "69c89b1b-dfe0-4329-f1e9-05e893066ed0"
      },
      "execution_count": 6,
      "outputs": [
        {
          "output_type": "stream",
          "name": "stdout",
          "text": [
            "FizzBuzz\n"
          ]
        }
      ]
    },
    {
      "cell_type": "code",
      "execution_count": 7,
      "metadata": {
        "colab": {
          "base_uri": "https://localhost:8080/"
        },
        "outputId": "0556abef-1adb-4d86-8278-606eb7f6a8c9",
        "id": "6LMN4Ao9wFTb"
      },
      "outputs": [
        {
          "output_type": "stream",
          "name": "stdout",
          "text": [
            "23\n"
          ]
        }
      ],
      "source": [
        "var = 23\n",
        "\n",
        "if (var % 3 == 0 and var % 5 == 0):\n",
        "    print(\"FizzBuzz\")\n",
        "elif (var % 3 == 0):\n",
        "    print(\"Fizz\")\n",
        "elif (var % 5 == 0):\n",
        "    print(\"Buzz\")\n",
        "else:\n",
        "    print(var)"
      ]
    },
    {
      "cell_type": "code",
      "source": [
        "var = 50\n",
        "\n",
        "if (var % 3 == 0 and var % 5 == 0):\n",
        "    print(\"FizzBuzz\")\n",
        "elif (var % 3 == 0):\n",
        "    print(\"Fizz\")\n",
        "elif (var % 5 == 0):\n",
        "    print(\"Buzz\")\n",
        "else:\n",
        "    print(var)"
      ],
      "metadata": {
        "colab": {
          "base_uri": "https://localhost:8080/"
        },
        "id": "XtsshXDnwPto",
        "outputId": "ca0b0dd4-f5aa-4ca8-ed21-54f1f235ba16"
      },
      "execution_count": 8,
      "outputs": [
        {
          "output_type": "stream",
          "name": "stdout",
          "text": [
            "Buzz\n"
          ]
        }
      ]
    }
  ]
}