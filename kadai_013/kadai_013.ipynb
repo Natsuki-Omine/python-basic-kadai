{
  "nbformat": 4,
  "nbformat_minor": 0,
  "metadata": {
    "colab": {
      "provenance": []
    },
    "kernelspec": {
      "name": "python3",
      "display_name": "Python 3"
    },
    "language_info": {
      "name": "python"
    }
  },
  "cells": [
    {
      "cell_type": "code",
      "source": [
        "def total_price(price: int, tax: float) -> float:\n",
        "    print(price * (100 - tax) / 100)\n",
        "\n",
        "total_price(2000, 10)\n",
        "total_price(5500, 10)"
      ],
      "metadata": {
        "colab": {
          "base_uri": "https://localhost:8080/"
        },
        "id": "LiDT2oLv8to7",
        "outputId": "ec0a8aca-83d0-43ec-ab6b-2bad4ab7aff1"
      },
      "execution_count": 3,
      "outputs": [
        {
          "output_type": "stream",
          "name": "stdout",
          "text": [
            "1800.0\n",
            "4950.0\n"
          ]
        }
      ]
    },
    {
      "cell_type": "code",
      "execution_count": 5,
      "metadata": {
        "colab": {
          "base_uri": "https://localhost:8080/"
        },
        "id": "zwtr137P71_g",
        "outputId": "6877f3cc-6b0c-4054-d47d-a952a5fe08df"
      },
      "outputs": [
        {
          "output_type": "stream",
          "name": "stdout",
          "text": [
            "9000.0\n",
            "7065.0\n"
          ]
        }
      ],
      "source": [
        "def total_price(price: int, tax: float) -> float:\n",
        "    return price * (100 - tax) / 100\n",
        "\n",
        "print(total_price(10000, 10))\n",
        "print(total_price(7850, 10))"
      ]
    }
  ]
}