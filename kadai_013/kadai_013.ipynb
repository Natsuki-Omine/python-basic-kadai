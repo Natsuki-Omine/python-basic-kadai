{
  "nbformat": 4,
  "nbformat_minor": 0,
  "metadata": {
    "colab": {
      "provenance": []
    },
    "kernelspec": {
      "name": "python3",
      "display_name": "Python 3"
    },
    "language_info": {
      "name": "python"
    }
  },
  "cells": [
    {
      "cell_type": "code",
      "source": [
        "def total_price(price: int, tax: float) -> float:\n",
        "    print(price * (100 + tax) / 100)\n",
        "\n",
        "total_price(2000, 10)\n",
        "total_price(5500, 10)"
      ],
      "metadata": {
        "colab": {
          "base_uri": "https://localhost:8080/"
        },
        "id": "LiDT2oLv8to7",
        "outputId": "c6833aef-a0c5-4937-fc84-639567bc489c"
      },
      "execution_count": 1,
      "outputs": [
        {
          "output_type": "stream",
          "name": "stdout",
          "text": [
            "2200.0\n",
            "6050.0\n"
          ]
        }
      ]
    },
    {
      "cell_type": "code",
      "execution_count": 2,
      "metadata": {
        "colab": {
          "base_uri": "https://localhost:8080/"
        },
        "id": "zwtr137P71_g",
        "outputId": "b9c65257-a743-4068-d845-c1173191daf9"
      },
      "outputs": [
        {
          "output_type": "stream",
          "name": "stdout",
          "text": [
            "11000.0\n",
            "8635.0\n"
          ]
        }
      ],
      "source": [
        "def total_price(price: int, tax: float) -> float:\n",
        "    return price * (100 + tax) / 100\n",
        "\n",
        "print(total_price(10000, 10))\n",
        "print(total_price(7850, 10))"
      ]
    }
  ]
}