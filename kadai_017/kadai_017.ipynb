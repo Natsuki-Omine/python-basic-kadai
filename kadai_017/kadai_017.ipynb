{
  "nbformat": 4,
  "nbformat_minor": 0,
  "metadata": {
    "colab": {
      "provenance": []
    },
    "kernelspec": {
      "name": "python3",
      "display_name": "Python 3"
    },
    "language_info": {
      "name": "python"
    }
  },
  "cells": [
    {
      "cell_type": "code",
      "execution_count": 3,
      "metadata": {
        "colab": {
          "base_uri": "https://localhost:8080/"
        },
        "id": "LqrcEVpKKnmG",
        "outputId": "00c1d872-443f-4686-c09a-a596d99eccdc"
      },
      "outputs": [
        {
          "output_type": "stream",
          "name": "stdout",
          "text": [
            "Alexは大人です\n",
            "Bobは大人ではありません\n",
            "Carolは大人ではありません\n",
            "Davidは大人です\n",
            "Edwardは大人ではありません\n"
          ]
        }
      ],
      "source": [
        "class Human:\n",
        "    # コンストラクタ\n",
        "    def __init__(self, name, age):\n",
        "        self.name = name\n",
        "        self.age = age\n",
        "\n",
        "    # メソッド\n",
        "    def check_adult(self):\n",
        "        if (self.age >= 20):\n",
        "          print(f\"{self.name}は大人です\")\n",
        "        else:\n",
        "          print(f\"{self.name}は大人ではありません\")\n",
        "\n",
        "\n",
        "# 複数のインスタンスを生成\n",
        "human1 = Human(\"Alex\", 27)\n",
        "human2 = Human(\"Bob\", 18)\n",
        "human3 = Human(\"Carol\", 15)\n",
        "human4 = Human(\"David\", 34)\n",
        "human5 = Human(\"Edward\", 6)\n",
        "\n",
        "# それぞれのインスタンスをリストに追加\n",
        "humans_list = [human1, human2, human3, human4, human5]\n",
        "\n",
        "# リストの要素数分だけcheck_adultメソッドの呼び出し\n",
        "for human in humans_list:\n",
        "  human.check_adult()"
      ]
    }
  ]
}